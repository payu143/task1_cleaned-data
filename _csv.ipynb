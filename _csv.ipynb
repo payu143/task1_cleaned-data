{
 "cells": [
  {
   "cell_type": "code",
   "execution_count": 8,
   "id": "fc3602d5-a1c7-446d-be95-0e72e87dd121",
   "metadata": {},
   "outputs": [],
   "source": [
    "import numpy as np\n",
    "import pandas as pd\n",
    "import matplotlib.pyplot as plt\n",
    "import seaborn as sns"
   ]
  },
  {
   "cell_type": "code",
   "execution_count": 12,
   "id": "3f46281a-b751-454a-94f3-8e6e7cb1031a",
   "metadata": {},
   "outputs": [
    {
     "data": {
      "text/html": [
       "<div>\n",
       "<style scoped>\n",
       "    .dataframe tbody tr th:only-of-type {\n",
       "        vertical-align: middle;\n",
       "    }\n",
       "\n",
       "    .dataframe tbody tr th {\n",
       "        vertical-align: top;\n",
       "    }\n",
       "\n",
       "    .dataframe thead th {\n",
       "        text-align: right;\n",
       "    }\n",
       "</style>\n",
       "<table border=\"1\" class=\"dataframe\">\n",
       "  <thead>\n",
       "    <tr style=\"text-align: right;\">\n",
       "      <th></th>\n",
       "      <th>Name</th>\n",
       "      <th>Age</th>\n",
       "      <th>Gender</th>\n",
       "      <th>Email</th>\n",
       "      <th>Join_Date</th>\n",
       "      <th>Salary</th>\n",
       "      <th>Department</th>\n",
       "    </tr>\n",
       "  </thead>\n",
       "  <tbody>\n",
       "    <tr>\n",
       "      <th>0</th>\n",
       "      <td>Alice</td>\n",
       "      <td>NaN</td>\n",
       "      <td>NaN</td>\n",
       "      <td>user0@example.com</td>\n",
       "      <td>2021-05-21</td>\n",
       "      <td>NaN</td>\n",
       "      <td>Admin</td>\n",
       "    </tr>\n",
       "    <tr>\n",
       "      <th>1</th>\n",
       "      <td>Bob</td>\n",
       "      <td>40</td>\n",
       "      <td>M</td>\n",
       "      <td>user1@example.com</td>\n",
       "      <td>NaN</td>\n",
       "      <td>50000</td>\n",
       "      <td>Engineering</td>\n",
       "    </tr>\n",
       "    <tr>\n",
       "      <th>2</th>\n",
       "      <td>Charlie</td>\n",
       "      <td>unknown</td>\n",
       "      <td>Male</td>\n",
       "      <td>user2@example.com</td>\n",
       "      <td>2020/01/01</td>\n",
       "      <td>50000</td>\n",
       "      <td>HR</td>\n",
       "    </tr>\n",
       "    <tr>\n",
       "      <th>3</th>\n",
       "      <td>David</td>\n",
       "      <td>NaN</td>\n",
       "      <td>NaN</td>\n",
       "      <td>user3@example.com</td>\n",
       "      <td>2021-05-21</td>\n",
       "      <td>70000</td>\n",
       "      <td>Admin</td>\n",
       "    </tr>\n",
       "    <tr>\n",
       "      <th>4</th>\n",
       "      <td>Eva</td>\n",
       "      <td>35</td>\n",
       "      <td>Other</td>\n",
       "      <td>user4@example.com</td>\n",
       "      <td>July 4, 2020</td>\n",
       "      <td>70000</td>\n",
       "      <td>Engineering</td>\n",
       "    </tr>\n",
       "  </tbody>\n",
       "</table>\n",
       "</div>"
      ],
      "text/plain": [
       "      Name      Age Gender              Email     Join_Date Salary  \\\n",
       "0    Alice      NaN    NaN  user0@example.com    2021-05-21    NaN   \n",
       "1      Bob       40      M  user1@example.com           NaN  50000   \n",
       "2  Charlie  unknown   Male  user2@example.com    2020/01/01  50000   \n",
       "3    David      NaN    NaN  user3@example.com    2021-05-21  70000   \n",
       "4      Eva       35  Other  user4@example.com  July 4, 2020  70000   \n",
       "\n",
       "    Department  \n",
       "0        Admin  \n",
       "1  Engineering  \n",
       "2           HR  \n",
       "3        Admin  \n",
       "4  Engineering  "
      ]
     },
     "execution_count": 12,
     "metadata": {},
     "output_type": "execute_result"
    }
   ],
   "source": [
    "#import dataset\n",
    "ds=pd.read_csv(\"raw_messy_dataset.csv\")\n",
    "ds.head(5)"
   ]
  },
  {
   "cell_type": "code",
   "execution_count": 13,
   "id": "813ed3af-0a23-4ce3-b62c-1361face28c7",
   "metadata": {},
   "outputs": [
    {
     "name": "stdout",
     "output_type": "stream",
     "text": [
      "<class 'pandas.core.frame.DataFrame'>\n",
      "RangeIndex: 105 entries, 0 to 104\n",
      "Data columns (total 7 columns):\n",
      " #   Column      Non-Null Count  Dtype \n",
      "---  ------      --------------  ----- \n",
      " 0   Name        105 non-null    object\n",
      " 1   Age         72 non-null     object\n",
      " 2   Gender      89 non-null     object\n",
      " 3   Email       95 non-null     object\n",
      " 4   Join_Date   70 non-null     object\n",
      " 5   Salary      78 non-null     object\n",
      " 6   Department  89 non-null     object\n",
      "dtypes: object(7)\n",
      "memory usage: 5.9+ KB\n"
     ]
    }
   ],
   "source": [
    "ds.info()"
   ]
  },
  {
   "cell_type": "code",
   "execution_count": 14,
   "id": "92185f2d-2959-4726-8002-197198899b59",
   "metadata": {},
   "outputs": [
    {
     "data": {
      "text/html": [
       "<div>\n",
       "<style scoped>\n",
       "    .dataframe tbody tr th:only-of-type {\n",
       "        vertical-align: middle;\n",
       "    }\n",
       "\n",
       "    .dataframe tbody tr th {\n",
       "        vertical-align: top;\n",
       "    }\n",
       "\n",
       "    .dataframe thead th {\n",
       "        text-align: right;\n",
       "    }\n",
       "</style>\n",
       "<table border=\"1\" class=\"dataframe\">\n",
       "  <thead>\n",
       "    <tr style=\"text-align: right;\">\n",
       "      <th></th>\n",
       "      <th>Name</th>\n",
       "      <th>Age</th>\n",
       "      <th>Gender</th>\n",
       "      <th>Email</th>\n",
       "      <th>Join_Date</th>\n",
       "      <th>Salary</th>\n",
       "      <th>Department</th>\n",
       "    </tr>\n",
       "  </thead>\n",
       "  <tbody>\n",
       "    <tr>\n",
       "      <th>count</th>\n",
       "      <td>105</td>\n",
       "      <td>72</td>\n",
       "      <td>89</td>\n",
       "      <td>95</td>\n",
       "      <td>70</td>\n",
       "      <td>78</td>\n",
       "      <td>89</td>\n",
       "    </tr>\n",
       "    <tr>\n",
       "      <th>unique</th>\n",
       "      <td>10</td>\n",
       "      <td>5</td>\n",
       "      <td>5</td>\n",
       "      <td>90</td>\n",
       "      <td>4</td>\n",
       "      <td>5</td>\n",
       "      <td>5</td>\n",
       "    </tr>\n",
       "    <tr>\n",
       "      <th>top</th>\n",
       "      <td>Alice</td>\n",
       "      <td>40</td>\n",
       "      <td>Male</td>\n",
       "      <td>user0@example.com</td>\n",
       "      <td>2021-05-21</td>\n",
       "      <td>50000</td>\n",
       "      <td>Engineering</td>\n",
       "    </tr>\n",
       "    <tr>\n",
       "      <th>freq</th>\n",
       "      <td>11</td>\n",
       "      <td>22</td>\n",
       "      <td>22</td>\n",
       "      <td>2</td>\n",
       "      <td>26</td>\n",
       "      <td>22</td>\n",
       "      <td>26</td>\n",
       "    </tr>\n",
       "  </tbody>\n",
       "</table>\n",
       "</div>"
      ],
      "text/plain": [
       "         Name Age Gender              Email   Join_Date Salary   Department\n",
       "count     105  72     89                 95          70     78           89\n",
       "unique     10   5      5                 90           4      5            5\n",
       "top     Alice  40   Male  user0@example.com  2021-05-21  50000  Engineering\n",
       "freq       11  22     22                  2          26     22           26"
      ]
     },
     "execution_count": 14,
     "metadata": {},
     "output_type": "execute_result"
    }
   ],
   "source": [
    "ds.describe()"
   ]
  },
  {
   "cell_type": "code",
   "execution_count": 24,
   "id": "e9b8db64-fd3a-4f6f-9a83-0a713ebcbce2",
   "metadata": {},
   "outputs": [
    {
     "data": {
      "text/plain": [
       "0"
      ]
     },
     "execution_count": 24,
     "metadata": {},
     "output_type": "execute_result"
    }
   ],
   "source": [
    "#searching for duplicate values\n",
    "ds.duplicated().sum()"
   ]
  },
  {
   "cell_type": "code",
   "execution_count": 23,
   "id": "21562cba-e2c7-4973-8f91-e6811a9349a7",
   "metadata": {},
   "outputs": [],
   "source": [
    "# remove duplicates\n",
    "ds.drop_duplicates(inplace=True)"
   ]
  },
  {
   "cell_type": "code",
   "execution_count": 33,
   "id": "e4395c49-9ca2-464e-9114-91dae95fe2c2",
   "metadata": {},
   "outputs": [
    {
     "data": {
      "text/plain": [
       "Index(['Name', 'Age', 'Gender', 'Email', 'Join_Date', 'Salary', 'Department'], dtype='object')"
      ]
     },
     "execution_count": 33,
     "metadata": {},
     "output_type": "execute_result"
    }
   ],
   "source": [
    "ds.columns"
   ]
  },
  {
   "cell_type": "code",
   "execution_count": 41,
   "id": "550657ea-0ba7-46c2-8928-04a941fa5964",
   "metadata": {},
   "outputs": [],
   "source": [
    "#handling age\n",
    "ds[\"Age\"]=pd.to_numeric(ds[\"Age\"],errors='coerce')"
   ]
  },
  {
   "cell_type": "code",
   "execution_count": 40,
   "id": "a4671d32-d78a-4b4c-a28b-463b8b2f2c1f",
   "metadata": {},
   "outputs": [],
   "source": [
    "x=ds[\"Age\"].median()\n",
    "ds[\"Age\"].fillna(x,inplace=True)"
   ]
  },
  {
   "cell_type": "code",
   "execution_count": 42,
   "id": "49b819d0-988d-4d85-974b-f9c928df4671",
   "metadata": {},
   "outputs": [
    {
     "name": "stdout",
     "output_type": "stream",
     "text": [
      "<class 'pandas.core.frame.DataFrame'>\n",
      "Index: 100 entries, 0 to 99\n",
      "Data columns (total 7 columns):\n",
      " #   Column      Non-Null Count  Dtype  \n",
      "---  ------      --------------  -----  \n",
      " 0   Name        100 non-null    object \n",
      " 1   Age         100 non-null    float64\n",
      " 2   Gender      86 non-null     object \n",
      " 3   Email       90 non-null     object \n",
      " 4   Join_Date   66 non-null     object \n",
      " 5   Salary      74 non-null     object \n",
      " 6   Department  84 non-null     object \n",
      "dtypes: float64(1), object(6)\n",
      "memory usage: 6.2+ KB\n"
     ]
    }
   ],
   "source": [
    "ds.info()"
   ]
  },
  {
   "cell_type": "code",
   "execution_count": 43,
   "id": "264219c1-00fd-4c54-b52d-94c9f8dbbcaf",
   "metadata": {},
   "outputs": [
    {
     "data": {
      "text/plain": [
       "array([nan, 'M', 'Male', 'Other', 'Female', 'F'], dtype=object)"
      ]
     },
     "execution_count": 43,
     "metadata": {},
     "output_type": "execute_result"
    }
   ],
   "source": [
    "ds[\"Gender\"].unique()"
   ]
  },
  {
   "cell_type": "code",
   "execution_count": 80,
   "id": "3aea37f1-8ed4-40b4-bc4e-f423f3125730",
   "metadata": {},
   "outputs": [
    {
     "name": "stderr",
     "output_type": "stream",
     "text": [
      "C:\\Users\\harshad\\AppData\\Local\\Temp\\ipykernel_19220\\4103227147.py:3: FutureWarning: A value is trying to be set on a copy of a DataFrame or Series through chained assignment using an inplace method.\n",
      "The behavior will change in pandas 3.0. This inplace method will never work because the intermediate object on which we are setting values always behaves as a copy.\n",
      "\n",
      "For example, when doing 'df[col].method(value, inplace=True)', try using 'df.method({col: value}, inplace=True)' or df[col] = df[col].method(value) instead, to perform the operation inplace on the original object.\n",
      "\n",
      "\n",
      "  ds[\"Gender\"].fillna(\"null\",inplace=True)\n"
     ]
    }
   ],
   "source": [
    "#staderdized Gender\n",
    "ds[\"Gender\"]=ds[\"Gender\"].replace({\"M\":\"Male\",\"F\":\"Female\",\"NaN\":\"None\"})\n",
    "ds[\"Gender\"].fillna(\"-\",inplace=True)\n"
   ]
  },
  {
   "cell_type": "code",
   "execution_count": 81,
   "id": "468e8cac-9eb0-417f-a472-7c89997e7e63",
   "metadata": {},
   "outputs": [
    {
     "name": "stdout",
     "output_type": "stream",
     "text": [
      "<class 'pandas.core.frame.DataFrame'>\n",
      "Index: 100 entries, 0 to 99\n",
      "Data columns (total 7 columns):\n",
      " #   Column      Non-Null Count  Dtype         \n",
      "---  ------      --------------  -----         \n",
      " 0   Name        100 non-null    object        \n",
      " 1   Age         100 non-null    float64       \n",
      " 2   Gender      100 non-null    object        \n",
      " 3   Email       100 non-null    object        \n",
      " 4   Join_Date   24 non-null     datetime64[ns]\n",
      " 5   Salary      60 non-null     float64       \n",
      " 6   Department  100 non-null    object        \n",
      "dtypes: datetime64[ns](1), float64(2), object(4)\n",
      "memory usage: 6.2+ KB\n"
     ]
    }
   ],
   "source": [
    "ds.info()"
   ]
  },
  {
   "cell_type": "code",
   "execution_count": 50,
   "id": "16c2717a-3057-4286-848a-70ec478bb904",
   "metadata": {},
   "outputs": [],
   "source": [
    "#handling email column\n",
    "ds[\"Email\"].fillna(\"null\",inplace=True)"
   ]
  },
  {
   "cell_type": "code",
   "execution_count": 51,
   "id": "f73bebf6-a1c6-4fc3-844c-2296a17b78e0",
   "metadata": {},
   "outputs": [
    {
     "name": "stdout",
     "output_type": "stream",
     "text": [
      "       Name   Age  Gender               Email     Join_Date   Salary   Department\n",
      "0     Alice  35.0     NaN   user0@example.com    2021-05-21      NaN        Admin\n",
      "1       Bob  40.0    Male   user1@example.com           NaN    50000  Engineering\n",
      "2   Charlie  35.0    Male   user2@example.com    2020/01/01    50000           HR\n",
      "3     David  35.0     NaN   user3@example.com    2021-05-21    70000        Admin\n",
      "4       Eva  35.0   Other   user4@example.com  July 4, 2020    70000  Engineering\n",
      "5     Frank  35.0   Other   user5@example.com           NaN    70000        Admin\n",
      "6     Grace  35.0  Female   user6@example.com  July 4, 2020    80000  Engineering\n",
      "7    Hannah  35.0   Other   user7@example.com    2021-05-21      NaN           HR\n",
      "8       Ivy  30.0  Female   user8@example.com           NaN    50000  Engineering\n",
      "9      Jack  35.0    Male   user9@example.com    2020/01/01    80000  Engineering\n",
      "10    Alice  35.0    Male  user10@example.com    2021-05-21    70000  Engineering\n",
      "11      Bob  35.0    Male  user11@example.com  July 4, 2020    50000        Sales\n",
      "12  Charlie  35.0    Male  user12@example.com    22-06-2022    80000        Sales\n",
      "13    David  35.0   Other  user13@example.com           NaN      NaN        Sales\n",
      "14      Eva  40.0    Male  user14@example.com  July 4, 2020    80000           HR\n",
      "15    Frank  35.0   Other  user15@example.com           NaN      NaN        Admin\n",
      "16    Grace  35.0   Other  user16@example.com    2021-05-21    70000          NaN\n",
      "17   Hannah  35.0    Male  user17@example.com           NaN      NaN  Engineering\n",
      "18      Ivy  30.0    Male  user18@example.com    2021-05-21    50000  Engineering\n",
      "19     Jack  40.0    Male  user19@example.com           NaN    70000           HR\n",
      "20    Alice  35.0    Male  user20@example.com    2021-05-21    50000  Engineering\n",
      "21      Bob  35.0    Male  user21@example.com    22-06-2022  unknown        Sales\n",
      "22  Charlie  30.0  Female  user22@example.com           NaN    60000          NaN\n",
      "23    David  40.0  Female  user23@example.com           NaN      NaN    Marketing\n",
      "24      Eva  35.0    Male  user24@example.com           NaN    60000  Engineering\n",
      "25    Frank  25.0  Female  user25@example.com    22-06-2022    60000        Sales\n",
      "26    Grace  40.0  Female  user26@example.com  July 4, 2020      NaN    Marketing\n",
      "27   Hannah  30.0    Male  user27@example.com    2021-05-21    70000          NaN\n",
      "28      Ivy  35.0  Female  user28@example.com    2020/01/01  unknown    Marketing\n",
      "29     Jack  35.0   Other  user29@example.com    2021-05-21    50000        Sales\n",
      "30    Alice  40.0  Female  user30@example.com    2021-05-21    80000        Admin\n",
      "31      Bob  25.0  Female  user31@example.com  July 4, 2020    50000        Admin\n",
      "32  Charlie  25.0    Male  user32@example.com    2021-05-21    80000    Marketing\n",
      "33    David  35.0    Male  user33@example.com    22-06-2022    50000           HR\n",
      "34      Eva  35.0    Male  user34@example.com    22-06-2022      NaN    Marketing\n",
      "35    Frank  35.0    Male  user35@example.com           NaN  unknown  Engineering\n",
      "36    Grace  30.0  Female  user36@example.com           NaN    80000  Engineering\n",
      "37   Hannah  40.0    Male  user37@example.com    2020/01/01      NaN        Admin\n",
      "38      Ivy  40.0     NaN  user38@example.com    2021-05-21    70000           HR\n",
      "39     Jack  35.0   Other  user39@example.com    2021-05-21    50000        Sales\n",
      "40    Alice  35.0  Female  user40@example.com  July 4, 2020    50000  Engineering\n",
      "41      Bob  35.0    Male  user41@example.com           NaN    80000        Admin\n",
      "42  Charlie  35.0     NaN  user42@example.com    22-06-2022    70000          NaN\n",
      "43    David  35.0  Female  user43@example.com    2020/01/01    70000        Admin\n",
      "44      Eva  35.0  Female  user44@example.com           NaN      NaN  Engineering\n",
      "45    Frank  40.0    Male  user45@example.com    22-06-2022      NaN  Engineering\n",
      "46    Grace  35.0  Female  user46@example.com           NaN      NaN        Admin\n",
      "47   Hannah  40.0   Other  user47@example.com           NaN      NaN        Sales\n",
      "48      Ivy  25.0     NaN  user48@example.com  July 4, 2020      NaN    Marketing\n",
      "49     Jack  35.0  Female  user49@example.com  July 4, 2020      NaN  Engineering\n",
      "50    Alice  35.0    Male  user50@example.com    2021-05-21      NaN        Admin\n",
      "51      Bob  35.0   Other  user51@example.com           NaN  unknown        Admin\n",
      "52  Charlie  35.0  Female  user52@example.com    2020/01/01    70000           HR\n",
      "53    David  35.0     NaN  user53@example.com           NaN      NaN    Marketing\n",
      "54      Eva  25.0  Female  user54@example.com    22-06-2022    70000          NaN\n",
      "55    Frank  35.0    Male  user55@example.com           NaN    70000        Sales\n",
      "56    Grace  30.0  Female  user56@example.com           NaN    60000          NaN\n",
      "57   Hannah  40.0  Female  user57@example.com  July 4, 2020  unknown    Marketing\n",
      "58      Ivy  25.0    Male  user58@example.com    2021-05-21      NaN    Marketing\n",
      "59     Jack  40.0   Other  user59@example.com    2021-05-21    50000    Marketing\n",
      "60    Alice  35.0  Female  user60@example.com           NaN    80000          NaN\n",
      "61      Bob  30.0    Male  user61@example.com  July 4, 2020      NaN    Marketing\n",
      "62  Charlie  30.0    Male  user62@example.com           NaN    50000        Admin\n",
      "63    David  25.0   Other  user63@example.com    2020/01/01  unknown          NaN\n",
      "64      Eva  30.0    Male  user64@example.com  July 4, 2020    80000    Marketing\n",
      "65    Frank  35.0     NaN  user65@example.com           NaN  unknown        Admin\n",
      "66    Grace  30.0   Other  user66@example.com           NaN    70000           HR\n",
      "67   Hannah  40.0   Other  user67@example.com  July 4, 2020    80000    Marketing\n",
      "68      Ivy  40.0  Female  user68@example.com           NaN    70000          NaN\n",
      "69     Jack  35.0   Other  user69@example.com  July 4, 2020    50000  Engineering\n",
      "70    Alice  40.0    Male  user70@example.com    22-06-2022    50000    Marketing\n",
      "71      Bob  35.0   Other  user71@example.com  July 4, 2020    80000  Engineering\n",
      "72  Charlie  40.0  Female  user72@example.com  July 4, 2020    80000        Admin\n",
      "73    David  35.0  Female  user73@example.com           NaN      NaN           HR\n",
      "74      Eva  35.0     NaN  user74@example.com           NaN  unknown        Sales\n",
      "75    Frank  35.0    Male  user75@example.com    2021-05-21      NaN           HR\n",
      "76    Grace  35.0  Female  user76@example.com    2021-05-21  unknown    Marketing\n",
      "77   Hannah  25.0  Female  user77@example.com    22-06-2022      NaN  Engineering\n",
      "78      Ivy  40.0   Other  user78@example.com    2021-05-21    70000  Engineering\n",
      "79     Jack  30.0     NaN  user79@example.com  July 4, 2020    80000          NaN\n",
      "80    Alice  40.0    Male  user80@example.com           NaN    50000  Engineering\n",
      "81      Bob  30.0   Other  user81@example.com    2021-05-21  unknown          NaN\n",
      "82  Charlie  35.0     NaN  user82@example.com    2021-05-21  unknown        Admin\n",
      "83    David  35.0    Male  user83@example.com    22-06-2022    50000        Sales\n",
      "84      Eva  35.0    Male  user84@example.com           NaN      NaN    Marketing\n",
      "85    Frank  30.0    Male  user85@example.com    22-06-2022  unknown          NaN\n",
      "86    Grace  40.0    Male  user86@example.com  July 4, 2020      NaN        Sales\n",
      "87   Hannah  35.0    Male  user87@example.com           NaN    70000  Engineering\n",
      "88      Ivy  35.0     NaN  user88@example.com    22-06-2022    80000  Engineering\n",
      "89     Jack  35.0     NaN  user89@example.com    2021-05-21    50000        Sales\n",
      "90    Alice  30.0  Female                   -           NaN    80000  Engineering\n",
      "91      Bob  30.0  Female                   -           NaN      NaN        Admin\n",
      "92  Charlie  40.0    Male                   -    2021-05-21  unknown        Admin\n",
      "93    David  30.0    Male                   -    22-06-2022  unknown        Sales\n",
      "94      Eva  30.0     NaN                   -    2021-05-21      NaN          NaN\n",
      "95    Frank  35.0    Male                   -           NaN    50000          NaN\n",
      "96    Grace  40.0    Male                   -           NaN    70000        Sales\n",
      "97   Hannah  35.0    Male                   -    2020/01/01    60000          NaN\n",
      "98      Ivy  35.0  Female                   -    2020/01/01    50000          NaN\n",
      "99     Jack  35.0     NaN                   -  July 4, 2020    60000        Admin\n"
     ]
    }
   ],
   "source": [
    "print(ds.to_string())"
   ]
  },
  {
   "cell_type": "code",
   "execution_count": 55,
   "id": "c41f7775-2f01-4bb6-8722-f1962da2709b",
   "metadata": {},
   "outputs": [
    {
     "name": "stdout",
     "output_type": "stream",
     "text": [
      "<class 'pandas.core.frame.DataFrame'>\n",
      "Index: 100 entries, 0 to 99\n",
      "Data columns (total 7 columns):\n",
      " #   Column      Non-Null Count  Dtype  \n",
      "---  ------      --------------  -----  \n",
      " 0   Name        100 non-null    object \n",
      " 1   Age         100 non-null    float64\n",
      " 2   Gender      86 non-null     object \n",
      " 3   Email       100 non-null    object \n",
      " 4   Join_Date   66 non-null     object \n",
      " 5   Salary      74 non-null     object \n",
      " 6   Department  84 non-null     object \n",
      "dtypes: float64(1), object(6)\n",
      "memory usage: 6.2+ KB\n"
     ]
    }
   ],
   "source": [
    "ds.info()"
   ]
  },
  {
   "cell_type": "code",
   "execution_count": 82,
   "id": "17b3c563-1f18-4536-8281-58391aa3447e",
   "metadata": {},
   "outputs": [
    {
     "name": "stderr",
     "output_type": "stream",
     "text": [
      "C:\\Users\\harshad\\AppData\\Local\\Temp\\ipykernel_19220\\1787618674.py:3: FutureWarning: A value is trying to be set on a copy of a DataFrame or Series through chained assignment using an inplace method.\n",
      "The behavior will change in pandas 3.0. This inplace method will never work because the intermediate object on which we are setting values always behaves as a copy.\n",
      "\n",
      "For example, when doing 'df[col].method(value, inplace=True)', try using 'df.method({col: value}, inplace=True)' or df[col] = df[col].method(value) instead, to perform the operation inplace on the original object.\n",
      "\n",
      "\n",
      "  ds[\"Join_Date\"].fillna(\"null\",inplace=True)\n",
      "C:\\Users\\harshad\\AppData\\Local\\Temp\\ipykernel_19220\\1787618674.py:3: FutureWarning: Setting an item of incompatible dtype is deprecated and will raise an error in a future version of pandas. Value 'null' has dtype incompatible with datetime64[ns], please explicitly cast to a compatible dtype first.\n",
      "  ds[\"Join_Date\"].fillna(\"null\",inplace=True)\n"
     ]
    }
   ],
   "source": [
    "#handling data columns\n",
    "ds[\"Join_Date\"]=pd.to_datetime(ds[\"Join_Date\"],errors='null')\n",
    "ds[\"Join_Date\"].fillna(\"-\",inplace=True)"
   ]
  },
  {
   "cell_type": "code",
   "execution_count": 85,
   "id": "c56ed2c4-9b80-4427-b58d-67f3445805f3",
   "metadata": {},
   "outputs": [
    {
     "name": "stderr",
     "output_type": "stream",
     "text": [
      "C:\\Users\\harshad\\AppData\\Local\\Temp\\ipykernel_19220\\312690626.py:3: FutureWarning: A value is trying to be set on a copy of a DataFrame or Series through chained assignment using an inplace method.\n",
      "The behavior will change in pandas 3.0. This inplace method will never work because the intermediate object on which we are setting values always behaves as a copy.\n",
      "\n",
      "For example, when doing 'df[col].method(value, inplace=True)', try using 'df.method({col: value}, inplace=True)' or df[col] = df[col].method(value) instead, to perform the operation inplace on the original object.\n",
      "\n",
      "\n",
      "  ds[\"Salary\"].fillna(\"null\",inplace=True)\n",
      "C:\\Users\\harshad\\AppData\\Local\\Temp\\ipykernel_19220\\312690626.py:3: FutureWarning: Setting an item of incompatible dtype is deprecated and will raise an error in a future version of pandas. Value 'null' has dtype incompatible with float64, please explicitly cast to a compatible dtype first.\n",
      "  ds[\"Salary\"].fillna(\"null\",inplace=True)\n"
     ]
    }
   ],
   "source": [
    "#hanling sallary\n",
    "ds[\"Salary\"]=pd.to_numeric(ds[\"Salary\"],errors='coerce')\n",
    "ds[\"Salary\"].fillna(\"-\",inplace=True)"
   ]
  },
  {
   "cell_type": "code",
   "execution_count": 86,
   "id": "278c117f-c63f-4376-9f76-667ee3ce2738",
   "metadata": {},
   "outputs": [
    {
     "name": "stdout",
     "output_type": "stream",
     "text": [
      "<class 'pandas.core.frame.DataFrame'>\n",
      "Index: 100 entries, 0 to 99\n",
      "Data columns (total 7 columns):\n",
      " #   Column      Non-Null Count  Dtype  \n",
      "---  ------      --------------  -----  \n",
      " 0   Name        100 non-null    object \n",
      " 1   Age         100 non-null    float64\n",
      " 2   Gender      100 non-null    object \n",
      " 3   Email       100 non-null    object \n",
      " 4   Join_Date   100 non-null    object \n",
      " 5   Salary      100 non-null    object \n",
      " 6   Department  100 non-null    object \n",
      "dtypes: float64(1), object(6)\n",
      "memory usage: 6.2+ KB\n"
     ]
    }
   ],
   "source": [
    "ds.info()"
   ]
  },
  {
   "cell_type": "code",
   "execution_count": 65,
   "id": "cc606fba-0812-4769-a54a-fe9e0c83f927",
   "metadata": {},
   "outputs": [
    {
     "name": "stdout",
     "output_type": "stream",
     "text": [
      "       Name   Age  Gender               Email  Join_Date   Salary   Department\n",
      "0     Alice  35.0     NaN   user0@example.com 2021-05-21      NaN        Admin\n",
      "1       Bob  40.0    Male   user1@example.com        NaT  50000.0  Engineering\n",
      "2   Charlie  35.0    Male   user2@example.com        NaT  50000.0           HR\n",
      "3     David  35.0     NaN   user3@example.com 2021-05-21  70000.0        Admin\n",
      "4       Eva  35.0   Other   user4@example.com        NaT  70000.0  Engineering\n",
      "5     Frank  35.0   Other   user5@example.com        NaT  70000.0        Admin\n",
      "6     Grace  35.0  Female   user6@example.com        NaT  80000.0  Engineering\n",
      "7    Hannah  35.0   Other   user7@example.com 2021-05-21      NaN           HR\n",
      "8       Ivy  30.0  Female   user8@example.com        NaT  50000.0  Engineering\n",
      "9      Jack  35.0    Male   user9@example.com        NaT  80000.0  Engineering\n",
      "10    Alice  35.0    Male  user10@example.com 2021-05-21  70000.0  Engineering\n",
      "11      Bob  35.0    Male  user11@example.com        NaT  50000.0        Sales\n",
      "12  Charlie  35.0    Male  user12@example.com        NaT  80000.0        Sales\n",
      "13    David  35.0   Other  user13@example.com        NaT      NaN        Sales\n",
      "14      Eva  40.0    Male  user14@example.com        NaT  80000.0           HR\n",
      "15    Frank  35.0   Other  user15@example.com        NaT      NaN        Admin\n",
      "16    Grace  35.0   Other  user16@example.com 2021-05-21  70000.0          NaN\n",
      "17   Hannah  35.0    Male  user17@example.com        NaT      NaN  Engineering\n",
      "18      Ivy  30.0    Male  user18@example.com 2021-05-21  50000.0  Engineering\n",
      "19     Jack  40.0    Male  user19@example.com        NaT  70000.0           HR\n",
      "20    Alice  35.0    Male  user20@example.com 2021-05-21  50000.0  Engineering\n",
      "21      Bob  35.0    Male  user21@example.com        NaT      NaN        Sales\n",
      "22  Charlie  30.0  Female  user22@example.com        NaT  60000.0          NaN\n",
      "23    David  40.0  Female  user23@example.com        NaT      NaN    Marketing\n",
      "24      Eva  35.0    Male  user24@example.com        NaT  60000.0  Engineering\n",
      "25    Frank  25.0  Female  user25@example.com        NaT  60000.0        Sales\n",
      "26    Grace  40.0  Female  user26@example.com        NaT      NaN    Marketing\n",
      "27   Hannah  30.0    Male  user27@example.com 2021-05-21  70000.0          NaN\n",
      "28      Ivy  35.0  Female  user28@example.com        NaT      NaN    Marketing\n",
      "29     Jack  35.0   Other  user29@example.com 2021-05-21  50000.0        Sales\n",
      "30    Alice  40.0  Female  user30@example.com 2021-05-21  80000.0        Admin\n",
      "31      Bob  25.0  Female  user31@example.com        NaT  50000.0        Admin\n",
      "32  Charlie  25.0    Male  user32@example.com 2021-05-21  80000.0    Marketing\n",
      "33    David  35.0    Male  user33@example.com        NaT  50000.0           HR\n",
      "34      Eva  35.0    Male  user34@example.com        NaT      NaN    Marketing\n",
      "35    Frank  35.0    Male  user35@example.com        NaT      NaN  Engineering\n",
      "36    Grace  30.0  Female  user36@example.com        NaT  80000.0  Engineering\n",
      "37   Hannah  40.0    Male  user37@example.com        NaT      NaN        Admin\n",
      "38      Ivy  40.0     NaN  user38@example.com 2021-05-21  70000.0           HR\n",
      "39     Jack  35.0   Other  user39@example.com 2021-05-21  50000.0        Sales\n",
      "40    Alice  35.0  Female  user40@example.com        NaT  50000.0  Engineering\n",
      "41      Bob  35.0    Male  user41@example.com        NaT  80000.0        Admin\n",
      "42  Charlie  35.0     NaN  user42@example.com        NaT  70000.0          NaN\n",
      "43    David  35.0  Female  user43@example.com        NaT  70000.0        Admin\n",
      "44      Eva  35.0  Female  user44@example.com        NaT      NaN  Engineering\n",
      "45    Frank  40.0    Male  user45@example.com        NaT      NaN  Engineering\n",
      "46    Grace  35.0  Female  user46@example.com        NaT      NaN        Admin\n",
      "47   Hannah  40.0   Other  user47@example.com        NaT      NaN        Sales\n",
      "48      Ivy  25.0     NaN  user48@example.com        NaT      NaN    Marketing\n",
      "49     Jack  35.0  Female  user49@example.com        NaT      NaN  Engineering\n",
      "50    Alice  35.0    Male  user50@example.com 2021-05-21      NaN        Admin\n",
      "51      Bob  35.0   Other  user51@example.com        NaT      NaN        Admin\n",
      "52  Charlie  35.0  Female  user52@example.com        NaT  70000.0           HR\n",
      "53    David  35.0     NaN  user53@example.com        NaT      NaN    Marketing\n",
      "54      Eva  25.0  Female  user54@example.com        NaT  70000.0          NaN\n",
      "55    Frank  35.0    Male  user55@example.com        NaT  70000.0        Sales\n",
      "56    Grace  30.0  Female  user56@example.com        NaT  60000.0          NaN\n",
      "57   Hannah  40.0  Female  user57@example.com        NaT      NaN    Marketing\n",
      "58      Ivy  25.0    Male  user58@example.com 2021-05-21      NaN    Marketing\n",
      "59     Jack  40.0   Other  user59@example.com 2021-05-21  50000.0    Marketing\n",
      "60    Alice  35.0  Female  user60@example.com        NaT  80000.0          NaN\n",
      "61      Bob  30.0    Male  user61@example.com        NaT      NaN    Marketing\n",
      "62  Charlie  30.0    Male  user62@example.com        NaT  50000.0        Admin\n",
      "63    David  25.0   Other  user63@example.com        NaT      NaN          NaN\n",
      "64      Eva  30.0    Male  user64@example.com        NaT  80000.0    Marketing\n",
      "65    Frank  35.0     NaN  user65@example.com        NaT      NaN        Admin\n",
      "66    Grace  30.0   Other  user66@example.com        NaT  70000.0           HR\n",
      "67   Hannah  40.0   Other  user67@example.com        NaT  80000.0    Marketing\n",
      "68      Ivy  40.0  Female  user68@example.com        NaT  70000.0          NaN\n",
      "69     Jack  35.0   Other  user69@example.com        NaT  50000.0  Engineering\n",
      "70    Alice  40.0    Male  user70@example.com        NaT  50000.0    Marketing\n",
      "71      Bob  35.0   Other  user71@example.com        NaT  80000.0  Engineering\n",
      "72  Charlie  40.0  Female  user72@example.com        NaT  80000.0        Admin\n",
      "73    David  35.0  Female  user73@example.com        NaT      NaN           HR\n",
      "74      Eva  35.0     NaN  user74@example.com        NaT      NaN        Sales\n",
      "75    Frank  35.0    Male  user75@example.com 2021-05-21      NaN           HR\n",
      "76    Grace  35.0  Female  user76@example.com 2021-05-21      NaN    Marketing\n",
      "77   Hannah  25.0  Female  user77@example.com        NaT      NaN  Engineering\n",
      "78      Ivy  40.0   Other  user78@example.com 2021-05-21  70000.0  Engineering\n",
      "79     Jack  30.0     NaN  user79@example.com        NaT  80000.0          NaN\n",
      "80    Alice  40.0    Male  user80@example.com        NaT  50000.0  Engineering\n",
      "81      Bob  30.0   Other  user81@example.com 2021-05-21      NaN          NaN\n",
      "82  Charlie  35.0     NaN  user82@example.com 2021-05-21      NaN        Admin\n",
      "83    David  35.0    Male  user83@example.com        NaT  50000.0        Sales\n",
      "84      Eva  35.0    Male  user84@example.com        NaT      NaN    Marketing\n",
      "85    Frank  30.0    Male  user85@example.com        NaT      NaN          NaN\n",
      "86    Grace  40.0    Male  user86@example.com        NaT      NaN        Sales\n",
      "87   Hannah  35.0    Male  user87@example.com        NaT  70000.0  Engineering\n",
      "88      Ivy  35.0     NaN  user88@example.com        NaT  80000.0  Engineering\n",
      "89     Jack  35.0     NaN  user89@example.com 2021-05-21  50000.0        Sales\n",
      "90    Alice  30.0  Female                   -        NaT  80000.0  Engineering\n",
      "91      Bob  30.0  Female                   -        NaT      NaN        Admin\n",
      "92  Charlie  40.0    Male                   - 2021-05-21      NaN        Admin\n",
      "93    David  30.0    Male                   -        NaT      NaN        Sales\n",
      "94      Eva  30.0     NaN                   - 2021-05-21      NaN          NaN\n",
      "95    Frank  35.0    Male                   -        NaT  50000.0          NaN\n",
      "96    Grace  40.0    Male                   -        NaT  70000.0        Sales\n",
      "97   Hannah  35.0    Male                   -        NaT  60000.0          NaN\n",
      "98      Ivy  35.0  Female                   -        NaT  50000.0          NaN\n",
      "99     Jack  35.0     NaN                   -        NaT  60000.0        Admin\n"
     ]
    }
   ],
   "source": [
    "print(ds.to_string())"
   ]
  },
  {
   "cell_type": "code",
   "execution_count": 68,
   "id": "d37f8736-4f65-4b6b-8bfb-c0032f228b42",
   "metadata": {},
   "outputs": [
    {
     "data": {
      "text/plain": [
       "array(['Admin', 'Engineering', 'HR', 'Sales', nan, 'Marketing'],\n",
       "      dtype=object)"
      ]
     },
     "execution_count": 68,
     "metadata": {},
     "output_type": "execute_result"
    }
   ],
   "source": [
    "ds[\"Department\"].unique()"
   ]
  },
  {
   "cell_type": "code",
   "execution_count": 70,
   "id": "52e229bb-9915-46fe-a3f2-1d90bc8288c1",
   "metadata": {},
   "outputs": [],
   "source": [
    "#handling missing values of department column\n",
    "y=ds[\"Department\"].mode()[0]\n",
    "ds[\"Department\"].fillna(y,inplace=True)"
   ]
  },
  {
   "cell_type": "code",
   "execution_count": 87,
   "id": "2c080897-b8f2-4cde-9143-35b042bf8fc5",
   "metadata": {},
   "outputs": [
    {
     "name": "stdout",
     "output_type": "stream",
     "text": [
      "<class 'pandas.core.frame.DataFrame'>\n",
      "Index: 100 entries, 0 to 99\n",
      "Data columns (total 7 columns):\n",
      " #   Column      Non-Null Count  Dtype  \n",
      "---  ------      --------------  -----  \n",
      " 0   Name        100 non-null    object \n",
      " 1   Age         100 non-null    float64\n",
      " 2   Gender      100 non-null    object \n",
      " 3   Email       100 non-null    object \n",
      " 4   Join_Date   100 non-null    object \n",
      " 5   Salary      100 non-null    object \n",
      " 6   Department  100 non-null    object \n",
      "dtypes: float64(1), object(6)\n",
      "memory usage: 6.2+ KB\n"
     ]
    }
   ],
   "source": [
    "ds.info()"
   ]
  },
  {
   "cell_type": "code",
   "execution_count": 89,
   "id": "874bc13d-811a-41b0-9f95-bf89b7b47064",
   "metadata": {},
   "outputs": [],
   "source": [
    "#save dat into new file\n",
    "ds.to_csv(\"cleaned_data.csv\")"
   ]
  },
  {
   "cell_type": "code",
   "execution_count": 88,
   "id": "dc73d192-f291-4452-9bf8-15e5c7d304b0",
   "metadata": {},
   "outputs": [
    {
     "name": "stdout",
     "output_type": "stream",
     "text": [
      "<class 'pandas.core.frame.DataFrame'>\n",
      "Index: 100 entries, 0 to 99\n",
      "Data columns (total 7 columns):\n",
      " #   Column      Non-Null Count  Dtype  \n",
      "---  ------      --------------  -----  \n",
      " 0   Name        100 non-null    object \n",
      " 1   Age         100 non-null    float64\n",
      " 2   Gender      100 non-null    object \n",
      " 3   Email       100 non-null    object \n",
      " 4   Join_Date   100 non-null    object \n",
      " 5   Salary      100 non-null    object \n",
      " 6   Department  100 non-null    object \n",
      "dtypes: float64(1), object(6)\n",
      "memory usage: 6.2+ KB\n"
     ]
    }
   ],
   "source": [
    "ds.info()"
   ]
  },
  {
   "cell_type": "code",
   "execution_count": null,
   "id": "34401fa5-3e0e-4a20-9ec6-71bef67a4037",
   "metadata": {},
   "outputs": [],
   "source": []
  }
 ],
 "metadata": {
  "kernelspec": {
   "display_name": "Python [conda env:base] *",
   "language": "python",
   "name": "conda-base-py"
  },
  "language_info": {
   "codemirror_mode": {
    "name": "ipython",
    "version": 3
   },
   "file_extension": ".py",
   "mimetype": "text/x-python",
   "name": "python",
   "nbconvert_exporter": "python",
   "pygments_lexer": "ipython3",
   "version": "3.12.7"
  }
 },
 "nbformat": 4,
 "nbformat_minor": 5
}
